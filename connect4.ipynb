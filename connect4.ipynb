{
 "cells": [
  {
   "cell_type": "code",
   "execution_count": 1,
   "metadata": {},
   "outputs": [],
   "source": [
    "import numpy as np\n",
    "import matplotlib.pyplot as plt"
   ]
  },
  {
   "cell_type": "code",
   "execution_count": 2,
   "metadata": {},
   "outputs": [],
   "source": [
    "from connect4 import *"
   ]
  },
  {
   "cell_type": "code",
   "execution_count": 26,
   "metadata": {},
   "outputs": [],
   "source": [
    "def state_to_input_representation(state, player):\n",
    "    X = torch.from_numpy(np.stack((state==1, state==-1, state!=0, np.full_like(state, player))))\n",
    "    X = X[None, ...].float()\n",
    "    return X\n",
    "\n",
    "def output_representation_to_action_prob(O):\n",
    "    return O\n",
    "\n",
    "\n",
    "def output_rep_legal_move_mask(legal_moves):\n",
    "    mask = torch.zeros(7, dtype=bool)\n",
    "    mask[legal_moves] = True\n",
    "    return mask"
   ]
  },
  {
   "cell_type": "code",
   "execution_count": 4,
   "metadata": {},
   "outputs": [
    {
     "data": {
      "image/png": "[encoded data removed]",
      "text/plain": [
       "<Figure size 432x288 with 2 Axes>"
      ]
     },
     "metadata": {
      "needs_background": "light"
     },
     "output_type": "display_data"
    },
    {
     "name": "stdout",
     "output_type": "stream",
     "text": [
      "(False, 0)\n"
     ]
    }
   ],
   "source": [
    "state = init_state()\n",
    "\n",
    "player = 1\n",
    "for i in range(15):\n",
    "    state = take_action(state, np.random.choice(get_actions(state)), player)\n",
    "    player = -player\n",
    "\n",
    "render(state)\n",
    "\n",
    "\n",
    "plt.show()\n",
    "\n",
    "print(is_done(state))\n",
    "\n"
   ]
  },
  {
   "cell_type": "code",
   "execution_count": 5,
   "metadata": {},
   "outputs": [
    {
     "data": {
      "text/plain": [
       "array([0, 1, 2, 3, 4, 5, 6])"
      ]
     },
     "execution_count": 5,
     "metadata": {},
     "output_type": "execute_result"
    }
   ],
   "source": [
    "get_actions(state)"
   ]
  },
  {
   "cell_type": "code",
   "execution_count": null,
   "metadata": {},
   "outputs": [],
   "source": []
  },
  {
   "cell_type": "code",
   "execution_count": 6,
   "metadata": {},
   "outputs": [],
   "source": [
    "import torch"
   ]
  },
  {
   "cell_type": "code",
   "execution_count": 7,
   "metadata": {},
   "outputs": [
    {
     "name": "stdout",
     "output_type": "stream",
     "text": [
      "torch.Size([1, 7])\n",
      "torch.Size([1, 1])\n",
      "----------------------------------------------------------------\n",
      "        Layer (type)               Output Shape         Param #\n",
      "================================================================\n",
      "            Conv2d-1              [-1, 4, 6, 7]             148\n",
      "       BatchNorm2d-2              [-1, 4, 6, 7]               8\n",
      "              ReLU-3              [-1, 4, 6, 7]               0\n",
      "            Conv2d-4              [-1, 4, 6, 7]             148\n",
      "       BatchNorm2d-5              [-1, 4, 6, 7]               8\n",
      "            Conv2d-6              [-1, 4, 6, 7]             148\n",
      "       BatchNorm2d-7              [-1, 4, 6, 7]               8\n",
      "     ResidualBlock-8              [-1, 4, 6, 7]               0\n",
      "            Conv2d-9              [-1, 4, 6, 7]             148\n",
      "      BatchNorm2d-10              [-1, 4, 6, 7]               8\n",
      "           Conv2d-11              [-1, 4, 6, 7]             148\n",
      "      BatchNorm2d-12              [-1, 4, 6, 7]               8\n",
      "    ResidualBlock-13              [-1, 4, 6, 7]               0\n",
      "           Conv2d-14              [-1, 4, 6, 7]             148\n",
      "      BatchNorm2d-15              [-1, 4, 6, 7]               8\n",
      "           Conv2d-16              [-1, 4, 6, 7]             148\n",
      "      BatchNorm2d-17              [-1, 4, 6, 7]               8\n",
      "    ResidualBlock-18              [-1, 4, 6, 7]               0\n",
      "           Conv2d-19              [-1, 4, 6, 7]             148\n",
      "      BatchNorm2d-20              [-1, 4, 6, 7]               8\n",
      "           Conv2d-21              [-1, 4, 6, 7]             148\n",
      "      BatchNorm2d-22              [-1, 4, 6, 7]               8\n",
      "    ResidualBlock-23              [-1, 4, 6, 7]               0\n",
      "           Conv2d-24              [-1, 4, 6, 7]             148\n",
      "      BatchNorm2d-25              [-1, 4, 6, 7]               8\n",
      "           Conv2d-26              [-1, 4, 6, 7]             148\n",
      "      BatchNorm2d-27              [-1, 4, 6, 7]               8\n",
      "    ResidualBlock-28              [-1, 4, 6, 7]               0\n",
      "    ResidualTower-29              [-1, 4, 6, 7]               0\n",
      "           Linear-30                   [-1, 10]           1,690\n",
      "             ReLU-31                   [-1, 10]               0\n",
      "           Linear-32                   [-1, 10]             110\n",
      "             ReLU-33                   [-1, 10]               0\n",
      "           Linear-34                    [-1, 7]              77\n",
      "          Softmax-35                    [-1, 7]               0\n",
      "           Linear-36                    [-1, 1]             169\n",
      "             ReLU-37                    [-1, 1]               0\n",
      "           Linear-38                    [-1, 1]               2\n",
      "             Tanh-39                    [-1, 1]               0\n",
      "================================================================\n",
      "Total params: 3,764\n",
      "Trainable params: 3,764\n",
      "Non-trainable params: 0\n",
      "----------------------------------------------------------------\n",
      "Input size (MB): 0.00\n",
      "Forward/backward pass size (MB): 0.04\n",
      "Params size (MB): 0.01\n",
      "Estimated Total Size (MB): 0.05\n",
      "----------------------------------------------------------------\n"
     ]
    }
   ],
   "source": [
    "def get_conv_block(in_channels):\n",
    "    conv = torch.nn.Conv2d(in_channels, 4, (3, 3), 1, padding=1)\n",
    "    bn = torch.nn.BatchNorm2d(4)\n",
    "    relu = torch.nn.ReLU()\n",
    "    return torch.nn.Sequential(*[conv, bn, relu])\n",
    "\n",
    "class ResidualBlock(torch.nn.Module):\n",
    "    def __init__(self):\n",
    "        super().__init__()\n",
    "        self.conv = torch.nn.Conv2d(4, 4, (3, 3), 1, padding=1)\n",
    "        self.bn = torch.nn.BatchNorm2d(4)\n",
    "        self.conv2 = torch.nn.Conv2d(4, 4, (3, 3), 1, padding=1)\n",
    "        self.bn2 = torch.nn.BatchNorm2d(4)\n",
    "    \n",
    "    def forward(self, X):\n",
    "        O = self.conv(X)\n",
    "        O = self.bn(O)\n",
    "        O = torch.relu(O)\n",
    "        O = self.conv2(O)\n",
    "        O = self.bn2(O)\n",
    "        O = O + X\n",
    "        O = torch.relu(O)\n",
    "        return O\n",
    "    \n",
    "class ResidualTower(torch.nn.Module):\n",
    "    def __init__(self, in_channels, num_res_blocks):\n",
    "        super().__init__()\n",
    "        self.conv_block = get_conv_block(in_channels)\n",
    "        self.res_blocks = torch.nn.Sequential(*[ResidualBlock() for i in range(num_res_blocks)])\n",
    "    \n",
    "    def forward(self, X):\n",
    "        O = self.conv_block(X)\n",
    "        O = self.res_blocks(O)\n",
    "        return O\n",
    "\n",
    "# These are custom modules not in the paper's definitions\n",
    "def get_policy_head():\n",
    "    fc1 = torch.nn.Linear(4*6*7, 10)\n",
    "    fc2 = torch.nn.Linear(10, 10)\n",
    "    fc3 = torch.nn.Linear(10, 7)\n",
    "    relu = torch.nn.ReLU()\n",
    "    sm = torch.nn.Softmax(dim=-1)\n",
    "    return torch.nn.Sequential(fc1, relu, fc2, relu, fc3, sm)\n",
    "    \n",
    "def get_value_head():\n",
    "    fc1 = torch.nn.Linear(4*6*7, 1)\n",
    "    fc2 = torch.nn.Linear(1, 1)\n",
    "    relu = torch.nn.ReLU()\n",
    "    tahn = torch.nn.Tanh()\n",
    "    return torch.nn.Sequential(fc1, relu, fc2, tahn)\n",
    "    \n",
    "\n",
    "class Connect4Net(torch.nn.Module):\n",
    "    def __init__(self, num_res_blocks, M=3, T=1, L=1):\n",
    "        super().__init__()\n",
    "        self.res_tower = ResidualTower(M*T+L, num_res_blocks)\n",
    "        \n",
    "        # [1, 256, 8, 8]\n",
    "        \n",
    "        self.policy_head = get_policy_head()\n",
    "        self.value_head = get_value_head()\n",
    "        \n",
    "    \n",
    "    def forward(self, X):\n",
    "        # X.shape = (1, 119, 8, 8)\n",
    "        \n",
    "        O = self.res_tower(X)\n",
    "        O = O.view(O.shape[0], -1)\n",
    "        \n",
    "        P = self.policy_head(O)\n",
    "        V = self.value_head(O)\n",
    "        \n",
    "        return P, V\n",
    "    \n",
    "    \n",
    "connect4_net = Connect4Net(5)\n",
    "\n",
    "P,V = connect4_net(torch.randn(1, 4, 6, 7))\n",
    "print(P.shape)\n",
    "print(V.shape)\n",
    "\n",
    "import torchsummary\n",
    "\n",
    "torchsummary.summary(connect4_net, input_size=(4,6,7))"
   ]
  },
  {
   "cell_type": "code",
   "execution_count": 89,
   "metadata": {},
   "outputs": [],
   "source": [
    "class Node:\n",
    "    def __init__(self, state, player):\n",
    "        self.state = state\n",
    "        self.N = 0\n",
    "        self.W = 0\n",
    "        self.player = player\n",
    "        self.actions = None\n",
    "        self.P = None\n",
    "        self.children = None\n",
    "        \n",
    "    def set_children(self, policy_val_net):\n",
    "        self.actions = get_actions(self.state)\n",
    "        \n",
    "        # TODO mask out illegal moves\n",
    "#         self.P, self.V = policy_val_net(state_to_input_representation(state, 1)) \n",
    "#         self.P = self.P.detach().numpy()[0]\n",
    "#         self.V = self.V.detach().numpy()[0]\n",
    "#         \n",
    "#         self.P = self.P[self.actions]\n",
    "#         self.P = self.P/self.P.sum()\n",
    "        self.P = np.ones(7)/7.\n",
    "        self.V = 0.\n",
    "        \n",
    "        mask = output_rep_legal_move_mask(self.actions)\n",
    "        self.P[~mask] = 0\n",
    "        self.P = self.P/self.P.sum()\n",
    "        \n",
    "        self.children = [Node(take_action(self.state, action, self.player), -self.player) for action in self.actions]\n",
    "    \n",
    "\n",
    "def MTCS(state, root, num_sim, player, temperature, policy_val_net):\n",
    "    if root is None:\n",
    "        root = Node(state, player)\n",
    "    \n",
    "    for sim_idx in range(num_sim):\n",
    "        MTCS_one_sim(root, player, 6*7, policy_val_net)\n",
    "        \n",
    "        \n",
    "    visit_counts = np.array([child.N for child in root.children])\n",
    "    visit_counts_temp = visit_counts**(1/temperature)\n",
    "    \n",
    "#     print(visit_counts, visit_counts.sum())\n",
    "    mtcs_p = np.zeros(7)\n",
    "    mtcs_p[root.actions] = visit_counts_temp/visit_counts_temp.sum()\n",
    "    \n",
    "    return root, mtcs_p\n",
    "\n",
    "def pick_child(node):\n",
    "    c_upct = 1.\n",
    "    childN = np.array([child.N for child in node.children])\n",
    "    childW = np.array([child.W for child in node.children])\n",
    "    U = c_upct * node.P[node.actions] * np.sqrt(childN.sum())/(1+childN)\n",
    "    # Q = np.where(childN==0, childN, childW/childN)\n",
    "    Q = childN\n",
    "    Q[childN!=0] = childW[childN!=0]/childN[childN!=0]\n",
    "    \n",
    "#     action_idx = (Q+U).argmax() # deterministic\n",
    "    action_idx = np.random.choice(np.arange(len(Q)), p=torch.from_numpy(Q+U).softmax(dim=0).numpy()) # stochastic\n",
    "#     print(Q+U, Q, U)\n",
    "#     print(action_idx)\n",
    "    return node.children[action_idx]\n",
    "\n",
    "def MTCS_one_sim(node, player, depth, policy_val_net):\n",
    "#     print('sim iteration')\n",
    "    done, winner = is_done(node.state)\n",
    "    \n",
    "    if not done and node.children is None:\n",
    "        node.set_children(policy_val_net)\n",
    "        \n",
    "    if done:\n",
    "#         render(node.state, mode='txt')\n",
    "#         print()\n",
    "        # if terminal state, or no actions left (terminal)\n",
    "        node.N, node.W = node.N+1, node.W + winner\n",
    "        return winner # return absolute winner\n",
    "    if depth==0:\n",
    "        # if depth limit reached\n",
    "        val = node.V[0]\n",
    "        val_absolute = val if player==1 else -val # return absolute evaluation\n",
    "        node.N, node.W = node.N+1, node.W + val_absolute\n",
    "        return val_absolute\n",
    "    \n",
    "        \n",
    "        \n",
    "    child_node = pick_child(node)\n",
    "    v = MTCS_one_sim(child_node, -player, depth-1, policy_val_net)\n",
    "    node.N, node.W = node.N+1, node.W + v\n",
    "    return v\n"
   ]
  },
  {
   "cell_type": "code",
   "execution_count": 95,
   "metadata": {},
   "outputs": [
    {
     "name": "stdout",
     "output_type": "stream",
     "text": [
      "torch.Size([16, 4, 6, 7])\n",
      "torch.Size([16, 7])\n",
      "torch.Size([16])\n"
     ]
    }
   ],
   "source": [
    "# training\n",
    "\n",
    "def epoch_net(connect4_net):\n",
    "    state = init_state()\n",
    "    player = 1\n",
    "    done = False\n",
    "    childnode = None\n",
    "#     render(state, mode='txt')\n",
    "\n",
    "    data = []\n",
    "    \n",
    "    while not done:\n",
    "        actions = get_actions(state)\n",
    "        root, mtcs_p = MTCS(state, childnode, 10, player, temperature=1, policy_val_net=connect4_net)\n",
    "        \n",
    "#         print(actions)\n",
    "#         print(mtcs_p)\n",
    "        action = np.random.choice(np.arange(7), p=mtcs_p)\n",
    "        action_idx = np.where(actions==action)[0][0]\n",
    "#         print(action)\n",
    "        \n",
    "        childnode = root.children[action_idx]\n",
    "#         print(player, action)\n",
    "        \n",
    "        data.append([state, mtcs_p, player, player])\n",
    "\n",
    "        state = take_action(state, action, player)\n",
    "\n",
    "        player = -player\n",
    "        done, winner = is_done(state)\n",
    "\n",
    "#         render(state, mode='txt')\n",
    "#         print()\n",
    "#         plt.show()\n",
    "#         break\n",
    "    \n",
    "    X = []\n",
    "    Y_true_p = []\n",
    "    Y_true_v = []\n",
    "    for d in data:\n",
    "        d[2] = d[2]*winner\n",
    "        \n",
    "        state, mtcs_p, outcome, player = d\n",
    "        rep = state_to_input_representation(state, player)\n",
    "        X.append(rep)\n",
    "        Y_true_p.append(torch.from_numpy(mtcs_p).float())\n",
    "        Y_true_v.append(torch.tensor(outcome).float())\n",
    "        \n",
    "    X = torch.cat(X)\n",
    "    Y_true_p = torch.stack(Y_true_p)\n",
    "    Y_true_v = torch.stack(Y_true_v)\n",
    "    print(X.shape)\n",
    "    print(Y_true_p.shape)\n",
    "    print(Y_true_v.shape)\n",
    "    \n",
    "#     render(state, mode='txt')\n",
    "#     return winner, state\n",
    "epoch_net(connect4_net)\n"
   ]
  },
  {
   "cell_type": "code",
   "execution_count": 77,
   "metadata": {},
   "outputs": [
    {
     "ename": "TypeError",
     "evalue": "MTCS() missing 1 required positional argument: 'policy_val_net'",
     "output_type": "error",
     "traceback": [
      "\u001b[0;31m---------------------------------------------------------------------------\u001b[0m",
      "\u001b[0;31mTypeError\u001b[0m                                 Traceback (most recent call last)",
      "\u001b[0;32m<ipython-input-77-36e57071240f>\u001b[0m in \u001b[0;36m<module>\u001b[0;34m\u001b[0m\n\u001b[1;32m      1\u001b[0m \u001b[0;31m# %%prun\u001b[0m\u001b[0;34m\u001b[0m\u001b[0;34m\u001b[0m\u001b[0;34m\u001b[0m\u001b[0m\n\u001b[0;32m----> 2\u001b[0;31m \u001b[0mMTCS\u001b[0m\u001b[0;34m(\u001b[0m\u001b[0mstate\u001b[0m\u001b[0;34m,\u001b[0m \u001b[0;36m200\u001b[0m\u001b[0;34m,\u001b[0m \u001b[0;36m1\u001b[0m\u001b[0;34m,\u001b[0m \u001b[0;36m1\u001b[0m\u001b[0;34m,\u001b[0m \u001b[0mconnect4_net\u001b[0m\u001b[0;34m)\u001b[0m\u001b[0;34m\u001b[0m\u001b[0;34m\u001b[0m\u001b[0m\n\u001b[0m",
      "\u001b[0;31mTypeError\u001b[0m: MTCS() missing 1 required positional argument: 'policy_val_net'"
     ]
    }
   ],
   "source": [
    "# %%prun\n",
    "MTCS(state, 200, 1, 1, connect4_net)"
   ]
  },
  {
   "cell_type": "code",
   "execution_count": 12,
   "metadata": {},
   "outputs": [
    {
     "name": "stdout",
     "output_type": "stream",
     "text": [
      "23 27 0\n"
     ]
    },
    {
     "data": {
      "text/plain": [
       "(0.46, 0.54, 0.0)"
      ]
     },
     "execution_count": 12,
     "metadata": {},
     "output_type": "execute_result"
    }
   ],
   "source": [
    "def connect4_net_player(state, actions, connect4_net, deterministic=False):\n",
    "    P, V = connect4_net(state_to_input_representation(state, player))\n",
    "    P = P[0, actions].detach().numpy()\n",
    "    P = P/P.sum()\n",
    "    \n",
    "    if deterministic:\n",
    "        action = actions[P.argmax()] # deterministic \n",
    "    else:\n",
    "        action = np.random.choice(actions, p=P) # stochastic\n",
    "    return action\n",
    "\n",
    "def random_player(state, actions):\n",
    "    return np.random.choice(actions)\n",
    "\n",
    "def game_p1_vs_p2(p1, p2):\n",
    "    state = init_state()\n",
    "    player = 1\n",
    "    done = False\n",
    "#     render(state, mode='txt')\n",
    "    while not done:\n",
    "        actions = get_actions(state)\n",
    "\n",
    "        if player==1:\n",
    "            action = p1(state, actions)\n",
    "        else:\n",
    "            action = p2(state, actions)\n",
    "        \n",
    "#         print(player, action)\n",
    "        state = take_action(state, action, player)\n",
    "\n",
    "        player = -player\n",
    "        done, winner = is_done(state)\n",
    "\n",
    "#         render(state, mode='txt')\n",
    "#         print()\n",
    "#         plt.show()\n",
    "\n",
    "#     render(state, mode='txt')\n",
    "    return winner, state\n",
    "    \n",
    "\n",
    "from functools import partial\n",
    "p_net = partial(connect4_net_player, connect4_net=connect4_net, deterministic=False)\n",
    "p_rand = random_player\n",
    "\n",
    "\n",
    "def games_p1_vs_p2(p1, p2, num_games=100):\n",
    "    p1win, p2win, draw = 0,0,0\n",
    "    for game_idx in range(num_games):\n",
    "        p1idx = np.random.choice([-1,1])\n",
    "        winner, state = game_p1_vs_p2(p1, p2) if p1idx==1 else game_p1_vs_p2(p2, p1)\n",
    "#         print(winner, p1idx)\n",
    "        if winner==p1idx:\n",
    "            p1win += 1\n",
    "        elif winner==-p1idx:\n",
    "            p2win += 1\n",
    "        else:\n",
    "            draw += 1\n",
    "    print(p1win, p2win, draw)\n",
    "    return p1win/num_games, p2win/num_games, draw/num_games\n",
    "\n",
    "\n",
    "games_p1_vs_p2(p_net, p_rand, 50)\n",
    "\n"
   ]
  },
  {
   "cell_type": "code",
   "execution_count": null,
   "metadata": {},
   "outputs": [],
   "source": []
  },
  {
   "cell_type": "code",
   "execution_count": null,
   "metadata": {},
   "outputs": [],
   "source": []
  },
  {
   "cell_type": "code",
   "execution_count": 19,
   "metadata": {},
   "outputs": [
    {
     "data": {
      "text/plain": [
       "array([0.13380282, 0.22535211, 0.14319249, 0.03755869, 0.22065728,\n",
       "       0.02347418, 0.21596244])"
      ]
     },
     "execution_count": 19,
     "metadata": {},
     "output_type": "execute_result"
    }
   ],
   "source": [
    "a = np.random.randint(10, 100, size=(7))\n",
    "\n",
    "\n",
    "a/a.sum()"
   ]
  },
  {
   "cell_type": "code",
   "execution_count": 23,
   "metadata": {},
   "outputs": [
    {
     "data": {
      "text/plain": [
       "array([0.14745596, 0.17543967, 0.15082754, 0.09654817, 0.17421278,\n",
       "       0.08254752, 0.17296836])"
      ]
     },
     "execution_count": 23,
     "metadata": {},
     "output_type": "execute_result"
    }
   ],
   "source": [
    "temp = 3\n",
    "(a**(1/temp))/(a**(1/temp)).sum()"
   ]
  },
  {
   "cell_type": "code",
   "execution_count": null,
   "metadata": {},
   "outputs": [],
   "source": []
  },
  {
   "cell_type": "code",
   "execution_count": null,
   "metadata": {},
   "outputs": [],
   "source": []
  },
  {
   "cell_type": "code",
   "execution_count": null,
   "metadata": {},
   "outputs": [],
   "source": []
  },
  {
   "cell_type": "code",
   "execution_count": null,
   "metadata": {},
   "outputs": [],
   "source": []
  }
 ],
 "metadata": {
  "kernelspec": {
   "display_name": "Python 3",
   "language": "python",
   "name": "python3"
  },
  "language_info": {
   "codemirror_mode": {
    "name": "ipython",
    "version": 3
   },
   "file_extension": ".py",
   "mimetype": "text/x-python",
   "name": "python",
   "nbconvert_exporter": "python",
   "pygments_lexer": "ipython3",
   "version": "3.8.5"
  }
 },
 "nbformat": 4,
 "nbformat_minor": 4
}
