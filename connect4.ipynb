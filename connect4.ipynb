{
 "cells": [
  {
   "cell_type": "code",
   "execution_count": 1,
   "metadata": {},
   "outputs": [],
   "source": [
    "import numpy as np\n",
    "import matplotlib.pyplot as plt"
   ]
  },
  {
   "cell_type": "code",
   "execution_count": 138,
   "metadata": {},
   "outputs": [],
   "source": [
    "def init_state(rows=6, columns=7):\n",
    "    return np.zeros((rows, columns), dtype=np.int8)\n",
    "def calc_legal_actions(state):\n",
    "    return np.where((state==0).any(axis=0))[0]\n",
    "\n",
    "def render(state):\n",
    "    plt.imshow(state*2./3., vmin=-1, vmax=1, cmap='seismic')\n",
    "    plt.colorbar()\n",
    "    plt.ylim(-0.5, 5.5)\n",
    "    plt.xticks(np.arange(7)+.5)\n",
    "    plt.yticks(np.arange(6)+.5)\n",
    "    plt.grid()\n",
    "    \n",
    "def take_action(state, action, player):\n",
    "    row = np.where(state[:, action]==0)[0].min()\n",
    "    ns = state.copy()\n",
    "    ns[row, action] = player\n",
    "    return ns\n",
    "\n",
    "def calc_winner(state):\n",
    "    win = state[:, :-3]+state[:, 1:-2]+state[:, 2:-1]+state[:, 3:]\n",
    "    if (np.abs(win)==4).any():\n",
    "        return np.sign(win[np.where(np.abs(win)==4)])[0]\n",
    "        \n",
    "    win = state[:-3, :]+state[1:-2, :]+state[2:-1, :]+state[3:, :]\n",
    "    if (np.abs(win)==4).any():\n",
    "        return np.sign(win[np.where(np.abs(win)==4)])[0]\n",
    "        \n",
    "    win = state[:-3, :-3]+state[1:-2, 1:-2]+state[2:-1, 2:-1]+state[3:, 3:]\n",
    "    if (np.abs(win)==4).any():\n",
    "        return np.sign(win[np.where(np.abs(win)==4)])[0]\n",
    "        \n",
    "    win = state[3:, :-3]+state[2:-1, 1:-2]+state[1:-2, 2:-1]+state[:-3, 3:]\n",
    "    if (np.abs(win)==4).any():\n",
    "        return np.sign(win[np.where(np.abs(win)==4)])[0]\n",
    "    return 0\n",
    "    \n",
    "def is_draw(state):\n",
    "    return (state!=0).all()\n",
    "\n",
    "def is_done(state):\n",
    "    winner = calc_winner(state)\n",
    "    return is_draw(state) or winner != 0, winner"
   ]
  },
  {
   "cell_type": "code",
   "execution_count": 147,
   "metadata": {},
   "outputs": [],
   "source": [
    "def state_to_input_representation(state, player):\n",
    "    return np.stack((state==1, state==-1, state!=0, np.full_like(state, player)))\n",
    "\n"
   ]
  },
  {
   "cell_type": "code",
   "execution_count": 146,
   "metadata": {},
   "outputs": [
    {
     "data": {
      "image/png": "[encoded data removed]",
      "text/plain": [
       "<Figure size 432x288 with 2 Axes>"
      ]
     },
     "metadata": {
      "needs_background": "light"
     },
     "output_type": "display_data"
    },
    {
     "name": "stdout",
     "output_type": "stream",
     "text": [
      "1\n",
      "(True, 1)\n"
     ]
    }
   ],
   "source": [
    "state = init_state()\n",
    "\n",
    "player = 1\n",
    "for i in range(15):\n",
    "    state = put(state, np.random.choice(calc_legal_actions(state)), player)\n",
    "    player = -player\n",
    "\n",
    "render(state)\n",
    "\n",
    "\n",
    "plt.show()\n",
    "\n",
    "print(is_done(state))\n",
    "\n"
   ]
  },
  {
   "cell_type": "code",
   "execution_count": 129,
   "metadata": {},
   "outputs": [
    {
     "data": {
      "text/plain": [
       "array([0, 3, 6])"
      ]
     },
     "execution_count": 129,
     "metadata": {},
     "output_type": "execute_result"
    }
   ],
   "source": [
    "calc_legal_actions(state)"
   ]
  },
  {
   "cell_type": "code",
   "execution_count": null,
   "metadata": {},
   "outputs": [],
   "source": []
  },
  {
   "cell_type": "code",
   "execution_count": null,
   "metadata": {},
   "outputs": [],
   "source": []
  },
  {
   "cell_type": "code",
   "execution_count": null,
   "metadata": {},
   "outputs": [],
   "source": []
  }
 ],
 "metadata": {
  "kernelspec": {
   "display_name": "Python 3",
   "language": "python",
   "name": "python3"
  },
  "language_info": {
   "codemirror_mode": {
    "name": "ipython",
    "version": 3
   },
   "file_extension": ".py",
   "mimetype": "text/x-python",
   "name": "python",
   "nbconvert_exporter": "python",
   "pygments_lexer": "ipython3",
   "version": "3.8.5"
  }
 },
 "nbformat": 4,
 "nbformat_minor": 4
}
