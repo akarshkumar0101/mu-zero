{
 "cells": [
  {
   "cell_type": "code",
   "execution_count": 1,
   "metadata": {},
   "outputs": [],
   "source": [
    "import numpy as np"
   ]
  },
  {
   "cell_type": "code",
   "execution_count": 2,
   "metadata": {},
   "outputs": [],
   "source": [
    "state = np.zeros((100, 3,3), dtype=np.int8)"
   ]
  },
  {
   "cell_type": "code",
   "execution_count": 171,
   "metadata": {},
   "outputs": [],
   "source": [
    "def is_draw(state):\n",
    "    return (state==0).sum(axis=(-1,-2))==0\n",
    "def who_won(state):\n",
    "    return 0.\n",
    "#     won = np.zeros(state.shape[:-2], dtype=np.int8)\n",
    "    \n",
    "#     def who_won3(state3): # ..., 3\n",
    "#         won = (state3[..., :]==state3[..., [0]]).all(axis=-1)\n",
    "#         winner = won.astype(np.int8)*state3[..., 0]\n",
    "#         return winner\n",
    "    \n",
    "        \n",
    "#     for rci in range(3):\n",
    "#         hwin = who_won3(state[..., rci, :])\n",
    "#         vwin = who_won3(state[..., :, rci])\n",
    "#         won[won==0] = hwin[won==0]\n",
    "#         won[won==0] = vwin[won==0]\n",
    "#     d1win = who_won3(state[..., [0,1,2], [0,1,2]])\n",
    "#     d2win = who_won3(state[..., [2,1,0], [0,1,2]])\n",
    "#     won[won==0] = d1win[won==0]\n",
    "#     won[won==0] = d2win[won==0]\n",
    "        \n",
    "    return won"
   ]
  },
  {
   "cell_type": "code",
   "execution_count": 172,
   "metadata": {},
   "outputs": [],
   "source": [
    "def print_state(state):\n",
    "    ss = np.full((3,3), '* ')\n",
    "    ss[state==1] = 'X '\n",
    "    ss[state==-1] = 'O '\n",
    "    for r in range(3):\n",
    "        for c in range(3):\n",
    "            print(ss[r,c], end='')\n",
    "        print()"
   ]
  },
  {
   "cell_type": "code",
   "execution_count": 173,
   "metadata": {},
   "outputs": [
    {
     "name": "stdout",
     "output_type": "stream",
     "text": [
      "X O X \n",
      "O X O \n",
      "* X X \n"
     ]
    }
   ],
   "source": [
    "state = np.array([[+1,-1,+1],\n",
    "                  [-1,+1,-1],\n",
    "                  [+0,+1,+1]], dtype=np.int8)\n",
    "\n",
    "who_won(state)\n",
    "\n",
    "print_state(state)"
   ]
  },
  {
   "cell_type": "code",
   "execution_count": 174,
   "metadata": {},
   "outputs": [
    {
     "name": "stdout",
     "output_type": "stream",
     "text": [
      "5000\n",
      "10000\n",
      "15000\n",
      "20000\n",
      "25000\n",
      "30000\n",
      "\n",
      "score, move:  0 (0, 0)\n",
      "34863\n"
     ]
    }
   ],
   "source": [
    "i=0\n",
    "\n",
    "def minmax(state, depth, alpha=-np.inf, beta=np.inf, maxing=True):\n",
    "#     print('depth=',depth)\n",
    "#     print_state(state)\n",
    "# #     print('eval=',state_score)\n",
    "#     print()\n",
    "#     print()\n",
    "    \n",
    "    global i\n",
    "    i=i+1\n",
    "    if i%5000==0:\n",
    "        print(i)\n",
    "    \n",
    "\n",
    "    winner = who_won(state)\n",
    "    if winner!=0:\n",
    "        return winner, None\n",
    "    elif is_draw(state):\n",
    "        return 0, None\n",
    "    else:\n",
    "        best_score, best_move = -np.inf if maxing else np.inf, None\n",
    "        for r in range(3):\n",
    "            for c in range(3):\n",
    "                if state[r, c]!=0:\n",
    "                    continue\n",
    "                \n",
    "                ns = state.copy()\n",
    "                ns[r, c] = 1 if maxing else -1\n",
    "                child_score, child_move = minmax(ns, depth-1, alpha=alpha, beta=beta, maxing=not maxing)    \n",
    "                if maxing:\n",
    "                    if child_score>best_score:\n",
    "                        best_score, best_move = child_score, (r,c)\n",
    "                    alpha = max(alpha, best_score)\n",
    "                else:\n",
    "                    if child_score<best_score:\n",
    "                        best_score, best_move = child_score, (r,c)\n",
    "                    beta = min(beta, best_score)\n",
    "                \n",
    "                if alpha>=beta:\n",
    "                    break\n",
    "                \n",
    "        return best_score, best_move\n",
    "\n",
    "\n",
    "    \n",
    "state = np.array([[+0,-1,-1],\n",
    "                  [-0,-1,+1],\n",
    "                  [+0,+1,-1]], dtype=np.int8)\n",
    "\n",
    "state = np.array([[+0,-0,+0],\n",
    "                  [-0,-0,+0],\n",
    "                  [+0,+0,-0]], dtype=np.int8)\n",
    "\n",
    "score, move = minmax(state, depth=9)\n",
    "\n",
    "print()\n",
    "print('score, move: ', score, move)\n",
    "print(i)"
   ]
  },
  {
   "cell_type": "code",
   "execution_count": 88,
   "metadata": {},
   "outputs": [
    {
     "name": "stdout",
     "output_type": "stream",
     "text": [
      "362880\n",
      "362880\n",
      "181440\n",
      "60480\n",
      "15120\n",
      "3024\n",
      "504\n",
      "72\n",
      "9\n",
      "986409\n"
     ]
    }
   ],
   "source": [
    "s = 0\n",
    "for i in range(1, 10):\n",
    "    si=np.prod(np.arange(i, 10))\n",
    "    print(si)\n",
    "    s += si\n",
    "print(s)"
   ]
  },
  {
   "cell_type": "code",
   "execution_count": 175,
   "metadata": {},
   "outputs": [
    {
     "data": {
      "text/plain": [
       "240"
      ]
     },
     "execution_count": 175,
     "metadata": {},
     "output_type": "execute_result"
    }
   ],
   "source": [
    "120+120"
   ]
  },
  {
   "cell_type": "code",
   "execution_count": null,
   "metadata": {},
   "outputs": [],
   "source": []
  },
  {
   "cell_type": "code",
   "execution_count": null,
   "metadata": {},
   "outputs": [],
   "source": []
  },
  {
   "cell_type": "code",
   "execution_count": 90,
   "metadata": {},
   "outputs": [
    {
     "data": {
      "text/plain": [
       "362880"
      ]
     },
     "execution_count": 90,
     "metadata": {},
     "output_type": "execute_result"
    }
   ],
   "source": [
    "np.prod(np.arange(1,10))"
   ]
  },
  {
   "cell_type": "code",
   "execution_count": null,
   "metadata": {},
   "outputs": [],
   "source": []
  }
 ],
 "metadata": {
  "kernelspec": {
   "display_name": "Python 3",
   "language": "python",
   "name": "python3"
  },
  "language_info": {
   "codemirror_mode": {
    "name": "ipython",
    "version": 3
   },
   "file_extension": ".py",
   "mimetype": "text/x-python",
   "name": "python",
   "nbconvert_exporter": "python",
   "pygments_lexer": "ipython3",
   "version": "3.8.5"
  }
 },
 "nbformat": 4,
 "nbformat_minor": 4
}
