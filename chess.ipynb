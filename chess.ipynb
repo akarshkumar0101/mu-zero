{
 "cells": [
  {
   "cell_type": "code",
   "execution_count": 1,
   "metadata": {},
   "outputs": [],
   "source": [
    "import numpy as np"
   ]
  },
  {
   "cell_type": "code",
   "execution_count": null,
   "metadata": {},
   "outputs": [],
   "source": []
  },
  {
   "cell_type": "code",
   "execution_count": null,
   "metadata": {},
   "outputs": [],
   "source": []
  },
  {
   "cell_type": "code",
   "execution_count": 64,
   "metadata": {},
   "outputs": [
    {
     "name": "stdout",
     "output_type": "stream",
     "text": [
      "r-n-b-k-q-b-n-r-\n",
      "p-p-p-p-p-p-p-p-\n",
      "□-■-□-■-□-■-□-■-\n",
      "■-□-■-□-■-□-■-□-\n",
      "□-■-□-■-□-■-□-■-\n",
      "■-□-■-□-■-□-■-□-\n",
      "P-P-P-P-P-P-P-P-\n",
      "R-N-B-K-Q-B-N-R-\n"
     ]
    }
   ],
   "source": [
    "PAWN, BISHOP, KNIGHT, ROOK, QUEEN, KING = 1, 2, 3, 4, 5, 6\n",
    "\n",
    "def init_state(shape=None):\n",
    "    s = np.zeros((8,8), dtype=np.int8)\n",
    "    \n",
    "    s[1, :] = PAWN\n",
    "    s[0, [0, -1]] = ROOK\n",
    "    s[0, [1, -2]] = KNIGHT\n",
    "    s[0, [2, -3]] = BISHOP\n",
    "    s[0, [3]] = KING\n",
    "    s[0, [4]] = QUEEN\n",
    "    \n",
    "    s[-2, :] = -s[1, :]\n",
    "    s[-1, :] = -s[0, :]\n",
    "    \n",
    "    return s\n",
    "\n",
    "\n",
    "def print_state(s):\n",
    "    ss = np.full(s.shape, fill_value='□')\n",
    "    x = y = np.arange(8)\n",
    "    x, y = np.meshgrid(x,y)\n",
    "    ss[(x+y)%2==1] = '■'\n",
    "    ps = np.abs(s)\n",
    "    ss[ps==PAWN] = 'p';ss[ps==BISHOP] = 'b';ss[ps==KNIGHT] = 'n';ss[ps==ROOK] = 'r';ss[ps==QUEEN] = 'q';ss[ps==KING] = 'k'\n",
    "    ss[s<0] = np.char.capitalize(ss[s<0])\n",
    "    \n",
    "    for r in range(8):\n",
    "        for c in range(8):\n",
    "            print(ss[r,c]+'-', end='')\n",
    "        print()\n",
    "\n",
    "print_state(init_state())"
   ]
  },
  {
   "cell_type": "code",
   "execution_count": 97,
   "metadata": {},
   "outputs": [],
   "source": [
    "h1 = np.stack((np.zeros(7), np.arange(1, 8)), axis=-1)\n",
    "h2 = np.stack((np.zeros(7), -np.arange(1, 8)), axis=-1)\n",
    "v1 = np.stack((np.arange(1, 8), np.zeros(7)), axis=-1)\n",
    "v2 = np.stack((-np.arange(1, 8), np.zeros(7)), axis=-1)\n",
    "ROOK_MOVES = np.concatenate((h1,h2,v1,v2))"
   ]
  },
  {
   "cell_type": "code",
   "execution_count": 72,
   "metadata": {},
   "outputs": [
    {
     "name": "stdout",
     "output_type": "stream",
     "text": [
      "[0 1 2 3 4 5 6 7]\n",
      "[0 1 2 3 4 5 6 7]\n"
     ]
    }
   ],
   "source": [
    "def calc_valid_moves(state, player):\n",
    "    rlocs = np.where(state==ROOK*player)\n",
    "    for rloc in rlocs:\n",
    "        ROOK_MOVES\n",
    "        \n",
    "        \n",
    "\n",
    "calc_valid_moves(init_state(), 1)"
   ]
  },
  {
   "cell_type": "code",
   "execution_count": null,
   "metadata": {},
   "outputs": [],
   "source": []
  },
  {
   "cell_type": "code",
   "execution_count": null,
   "metadata": {},
   "outputs": [],
   "source": []
  },
  {
   "cell_type": "code",
   "execution_count": null,
   "metadata": {},
   "outputs": [],
   "source": []
  }
 ],
 "metadata": {
  "kernelspec": {
   "display_name": "Python 3",
   "language": "python",
   "name": "python3"
  },
  "language_info": {
   "codemirror_mode": {
    "name": "ipython",
    "version": 3
   },
   "file_extension": ".py",
   "mimetype": "text/x-python",
   "name": "python",
   "nbconvert_exporter": "python",
   "pygments_lexer": "ipython3",
   "version": "3.8.5"
  }
 },
 "nbformat": 4,
 "nbformat_minor": 4
}
